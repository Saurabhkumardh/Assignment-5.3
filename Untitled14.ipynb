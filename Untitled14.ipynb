{
  "nbformat": 4,
  "nbformat_minor": 0,
  "metadata": {
    "colab": {
      "provenance": []
    },
    "kernelspec": {
      "name": "python3",
      "display_name": "Python 3"
    },
    "language_info": {
      "name": "python"
    }
  },
  "cells": [
    {
      "cell_type": "markdown",
      "source": [
        "Question 1 Multithreading in Python refers to the ability of a program to concurrently execute multiple threads of execution within the same process. It allows tasks to run concurrently, improving performance by utilizing available CPU cores and reducing idle time The threading module in Python is used to handle threads"
      ],
      "metadata": {
        "id": "AOuMfEuXMn7N"
      }
    },
    {
      "cell_type": "markdown",
      "source": [
        "Question 2 The threading module in Python is used for creating, controlling, and managing threads in a multithreaded environment. It provides a higher-level interface for working with threads compared to the lower-level thread module.\n",
        "\n",
        "activeCount: This function returns the number of Thread objects currently alive. It counts both daemon and non-daemon threads.\n",
        "\n",
        "currentThread: This function returns the currently running Thread object. It is useful for obtaining a reference to the thread from which the function is called.\n",
        "\n",
        "enumerate: This function returns a list of all Thread objects currently alive. It includes both daemon and non-daemon threads"
      ],
      "metadata": {
        "id": "gpTWeh50Mzlf"
      }
    },
    {
      "cell_type": "markdown",
      "source": [
        "Question 3\n",
        " run: Entry point for the thread's activity.\n",
        "start: Starts the thread's activity.\n",
        "join: Blocks until the thread terminates.\n",
        "isAlive: Returns True if the thread is alive."
      ],
      "metadata": {
        "id": "lr4_ucUmNAqO"
      }
    },
    {
      "cell_type": "markdown",
      "source": [
        "Question 4\n"
      ],
      "metadata": {
        "id": "O0i1PWU6NbIs"
      }
    },
    {
      "cell_type": "code",
      "source": [
        "import threading\n",
        "\n",
        "def print_squares():\n",
        "    for i in range(1, 6):\n",
        "        print(f\"Square of {i} is {i*i}\")\n",
        "\n",
        "def print_cubes():\n",
        "    for i in range(1, 6):\n",
        "        print(f\"Cube of {i} is {i*i*i}\")\n",
        "\n",
        "if __name__ == \"__main__\":\n",
        "    # Create threads\n",
        "    t1 = threading.Thread(target=print_squares)\n",
        "    t2 = threading.Thread(target=print_cubes)\n",
        "\n",
        "    # Start threads\n",
        "    t1.start()\n",
        "    t2.start()\n",
        "\n",
        "    # Wait for threads to finish\n",
        "    t1.join()\n",
        "    t2.join()\n",
        "\n",
        "    print(\"Main thread exits\")\n"
      ],
      "metadata": {
        "id": "iU4XthNuNok9"
      },
      "execution_count": null,
      "outputs": []
    },
    {
      "cell_type": "markdown",
      "source": [
        "Question 5\n",
        "\n",
        "Advantages:\n",
        "\n",
        "Concurrency\n",
        "Responsiveness\n",
        "Parallelism\n",
        "Resource Sharing\n",
        "Simplified Programming\n",
        "\n",
        "Disadvantages:\n",
        "\n",
        "Complexity\n",
        "Overhead\n",
        "Synchronization Overhead\n",
        "Debugging Complexity\n",
        "Scalability Limitations"
      ],
      "metadata": {
        "id": "ueEYH4aINrH_"
      }
    },
    {
      "cell_type": "markdown",
      "source": [
        "Question 6\n",
        "Deadlocks occur when two or more threads are blocked indefinitely waiting for each other to release resources, while race conditions arise when the outcome of a program depends on the non-deterministic interleaving of operations performed by multiple threads accessing shared resources.\n",
        "\n",
        "Deadlocks lead to system unresponsiveness, as threads remain indefinitely blocked, while race conditions result in unpredictable behavior or incorrect results due to concurrent access to shared resources without proper synchronization"
      ],
      "metadata": {
        "id": "SbUbH73IOP1V"
      }
    }
  ]
}